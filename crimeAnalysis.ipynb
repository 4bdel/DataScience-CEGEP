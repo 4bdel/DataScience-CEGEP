{
  "nbformat": 4,
  "nbformat_minor": 0,
  "metadata": {
    "colab": {
      "name": "Data.ipynb",
      "provenance": [],
      "collapsed_sections": [
        "BMAdpqa-UFy-"
      ]
    },
    "kernelspec": {
      "name": "python3",
      "display_name": "Python 3"
    },
    "language_info": {
      "name": "python"
    }
  },
  "cells": [
    {
      "cell_type": "markdown",
      "metadata": {
        "id": "Gew6WsgbJOaI"
      },
      "source": [
        "**<h1>VIOLENT CRIME ANALYSIS IN THE USA </h1>**"
      ]
    },
    {
      "cell_type": "markdown",
      "metadata": {
        "id": "v8bwApGZwDSr"
      },
      "source": [
        "Harpreet Singh Ghotra, Abdelkader Habel"
      ]
    },
    {
      "cell_type": "markdown",
      "metadata": {
        "id": "ghYUuup_JROe"
      },
      "source": [
        "# Introduction "
      ]
    },
    {
      "cell_type": "markdown",
      "metadata": {
        "id": "AEx6MF-TJTso"
      },
      "source": [
        "<p><b>Crime analysis is the systematic study of identifying and analyzing the patterns in terms of crime and disorder. Information on patterns can help law enforcement agencies deploy resources in a more effective manner and assist detectives in their investigations.</b> Crime analysis also plays a vital role in formulating crime prevention strategies. It's only through crime analysis that we can see the bigger picture and crucially an objective picture of what's going on. Besides these, crime analysis also provide the objective information that decision makers can use to determine <b>\"what to do\", \"where to do it\" and \"which resources to allocate to do it.\"</b></p>\n",
        "<p>So, <b>to derive statistics about crime – to estimate its levels and trends,  and inform law enforcement approaches to prevent it</b> – a conceptual framework for defining and thinking about crime is virtually a prerequisite. Developing and maintaining such a framework is no easy task, because the mechanics of crime are ever evolving and shifting. However, we can first analyze the violent crime data and find out the patterns and crimes occuring in the states of a country and then we can deploy strict survilliance systems to guard those cities and lower the crime rates.</p>\n",
        "<p> Here, we will conduct our analysis  to find answer to these research questions.</p>\n",
        "<p><b>1. Are violent crimes rising or falling in American cities?</b></p>\n",
        "<p><b>2. Which is the most reported violent crime among all violent crimes?</b></p>\n",
        "<p><b>3. Which cities of America have reported the highest numbers of violent crimes? </b></p>\n",
        "<p><b>4. Time series analysis of reported violent crime cases in different cities </b></p>"
      ]
    },
    {
      "cell_type": "markdown",
      "metadata": {
        "id": "kwV2iawTJaJL"
      },
      "source": [
        "# **<h2> Data Preprocessing </h2>**"
      ]
    },
    {
      "cell_type": "markdown",
      "metadata": {
        "id": "UKHIJK3tJldY"
      },
      "source": [
        "**<h3>Data Sources </h3>**"
      ]
    },
    {
      "cell_type": "markdown",
      "metadata": {
        "id": "-lJUBXD5Jo9p"
      },
      "source": [
        "<p>The <b>data source</b> we have taken in our analysis was <b>uploaded to Kaggle by the Marshal Project, a nonprofit organization that centers its work around criminal justice and and the carceral system.</b>They have named the data source as <b>\"Crime in Context, 1975-2015\".</b> (found at the following link: https://www.kaggle.com/marshallproject/crime-rates) This crime data was acquired from the <b>FBI Uniform Crime Reporting program's \"Offenses Known and Clearances by Arrest\" database for the year in question, held at the National Archives of Criminal Justice Data.</b> The data was compiled and <b>uploaded by Gabriel Dance, Tom Meagher, and Emily Hopkins of The Marshall Project. </b></p>\n",
        "<p>The Marshall Project collected <b>more than 40 years of data on the four major crimes the FBI classifies as violent — homicide, rape, robbery and assault — in 68 police jurisdictions with populations of 250,000 or greater.</b></p>\n",
        "<p> <b>The data is in 'csv' format which contains 2829 rows and 15 columns. The name of dataset is 'report.csv'</b> </p>"
      ]
    },
    {
      "cell_type": "markdown",
      "metadata": {
        "id": "Wq-n38FmJqXx"
      },
      "source": [
        "**<h3>Loading data into memory</h3>**\n",
        "\n",
        "**<h4>Importing necessary libraries</h4>**\n",
        "\n",
        "<p><b>Pandas</b> for reading csv file and processing data frames</p>\n",
        "<p><b>Numpy</b> for doing numerical operations on python</p>\n",
        "<p><b>Matplotlib</b> and <b>Seaborn</b> for visualizing the data</p>"
      ]
    },
    {
      "cell_type": "code",
      "metadata": {
        "id": "dO655B6xJuNc"
      },
      "source": [
        "import pandas as pd\n",
        "import numpy as np\n",
        "import matplotlib.pyplot as plt\n",
        "import seaborn as sns\n"
      ],
      "execution_count": null,
      "outputs": []
    },
    {
      "cell_type": "markdown",
      "metadata": {
        "id": "imLuaW-AJwtM"
      },
      "source": [
        "**<h4>Uploading data file in google colab </h4>**\n",
        "<p>The <b>'report.csv'</b> file must be uploaded from your local computer. </p>"
      ]
    },
    {
      "cell_type": "code",
      "metadata": {
        "id": "UT6a48ZsLua8",
        "colab": {
          "resources": {
            "http://localhost:8080/nbextensions/google.colab/files.js": {
              "data": "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",
              "ok": true,
              "headers": [
                [
                  "content-type",
                  "application/javascript"
                ]
              ],
              "status": 200,
              "status_text": ""
            }
          },
          "base_uri": "https://localhost:8080/",
          "height": 32
        },
        "outputId": "f4d4e719-d8c8-4744-facc-578a55674966"
      },
      "source": [
        "# from google.colab import files\n",
        "# files.upload()"
      ],
      "execution_count": null,
      "outputs": [
        {
          "data": {
            "text/html": [
              "\n",
              "     <input type=\"file\" id=\"files-9edf203d-0c9a-4a2a-aa69-29cff3d6b153\" name=\"files[]\" multiple disabled\n",
              "        style=\"border:none\" />\n",
              "     <output id=\"result-9edf203d-0c9a-4a2a-aa69-29cff3d6b153\">\n",
              "      Upload widget is only available when the cell has been executed in the\n",
              "      current browser session. Please rerun this cell to enable.\n",
              "      </output>\n",
              "      <script src=\"/nbextensions/google.colab/files.js\"></script> "
            ],
            "text/plain": [
              "<IPython.core.display.HTML object>"
            ]
          },
          "metadata": {},
          "output_type": "display_data"
        }
      ]
    },
    {
      "cell_type": "markdown",
      "metadata": {
        "id": "piUqPQp4L0Nc"
      },
      "source": [
        "**<h4> Reading the csv files and printing the first five rows to get an understanding of data </h4>**"
      ]
    },
    {
      "cell_type": "code",
      "metadata": {
        "id": "yYpjIp2oL2p7"
      },
      "source": [
        "df = pd.read_csv('report.csv')\n",
        "df.head()"
      ],
      "execution_count": null,
      "outputs": []
    },
    {
      "cell_type": "markdown",
      "metadata": {
        "id": "0rqfJOzeL403"
      },
      "source": [
        "**<h4> Knowing the datatypes of each column and checking the count of non-null values in each column</h4>**"
      ]
    },
    {
      "cell_type": "code",
      "metadata": {
        "id": "3ZzzF9VyL6yN"
      },
      "source": [
        "df.info()"
      ],
      "execution_count": null,
      "outputs": []
    },
    {
      "cell_type": "markdown",
      "metadata": {
        "id": "_dYt--_7L_ix"
      },
      "source": [
        "**<h4> Checking some statistical properties of the data to understand the data and its distribution</h4>**"
      ]
    },
    {
      "cell_type": "code",
      "metadata": {
        "id": "_-osGs5jMCxJ"
      },
      "source": [
        "df.describe()"
      ],
      "execution_count": null,
      "outputs": []
    },
    {
      "cell_type": "markdown",
      "metadata": {
        "id": "5PWlGydrMKR2"
      },
      "source": [
        "**<h4> Here, we can see there are missing values in our datasets so let's quickly visualize the missing data with the help of a heatmap.</h4>**"
      ]
    },
    {
      "cell_type": "code",
      "metadata": {
        "id": "oTVEr8-VMK7M"
      },
      "source": [
        "sns.heatmap(df.isnull(), cbar=False)"
      ],
      "execution_count": null,
      "outputs": []
    },
    {
      "cell_type": "markdown",
      "metadata": {
        "id": "Ce_aJ4FmWkRk"
      },
      "source": [
        "##Missing Values"
      ]
    },
    {
      "cell_type": "markdown",
      "metadata": {
        "id": "N3Jf-Ci5Qdam"
      },
      "source": [
        "**<h4> Creating a dataframe for storing missing values for visualization purposes </h4>**"
      ]
    },
    {
      "cell_type": "code",
      "metadata": {
        "id": "KwM9aCxKQfUq"
      },
      "source": [
        "missing_values = df.isnull().sum()\n",
        "missing_values = missing_values.to_frame()\n",
        "missing_values.columns = ['count']\n",
        "missing_values.index.names = ['Name']\n",
        "missing_values['Name'] = missing_values.index\n",
        "missing_values.reset_index(drop=True,inplace=True)"
      ],
      "execution_count": null,
      "outputs": []
    },
    {
      "cell_type": "markdown",
      "metadata": {
        "id": "pAmhoPj2QhhL"
      },
      "source": [
        "**<h4>Visualizing the number of missing data in each columns </h4>**"
      ]
    },
    {
      "cell_type": "code",
      "metadata": {
        "id": "rZJ-kijPQi-y"
      },
      "source": [
        "ax=plt.figure(figsize=(30,15))\n",
        "ax = sns.barplot()\n",
        "ax = sns.barplot(x='Name',y='count',data = missing_values,color=\"y\")\n",
        "ax.set_title('Number of null values in the columns',fontsize=30)\n",
        "ax.set_xlabel('Total number of null values',fontsize=20)\n",
        "ax.set_ylabel('Columns',fontsize=20)\n",
        "plt.show()"
      ],
      "execution_count": null,
      "outputs": []
    },
    {
      "cell_type": "markdown",
      "metadata": {
        "id": "SVOAj2Ay-wi2"
      },
      "source": [
        "**<h3>Handling Missing Values </h3>**"
      ]
    },
    {
      "cell_type": "code",
      "metadata": {
        "id": "7EgFiLjRQnc1"
      },
      "source": [
        "df['agency_code'].value_counts()"
      ],
      "execution_count": null,
      "outputs": []
    },
    {
      "cell_type": "code",
      "metadata": {
        "id": "DqRJxayyQsmL"
      },
      "source": [
        "df['agency_jurisdiction'].value_counts()"
      ],
      "execution_count": null,
      "outputs": []
    },
    {
      "cell_type": "markdown",
      "metadata": {
        "id": "UXBbeWEZQulX"
      },
      "source": [
        "<h6> Here, we can see the similar trends in <b>'agency_code'</b> column and <b>'agency_jurisdiction'</b> column. But when we see the unique values in each column, <b>'agency_jurisdiction' column</b> has one more unique value than <b>'agency_code'</b>..</h6>\n",
        "<h6><b>Note:</b> the column <b>'agency_jurisdiction'</b> does not have any missing values but the column <b>'agency_code'</b> has missing values. So, let's quickly see the values in <b>'agency_jurisdiction'</b> column when the <b>'agency_code'</b> column  has missing values. </h6>"
      ]
    },
    {
      "cell_type": "code",
      "metadata": {
        "id": "45RaVQ-eQxP6"
      },
      "source": [
        "df.loc[df['agency_code'].isnull(),:]"
      ],
      "execution_count": null,
      "outputs": []
    },
    {
      "cell_type": "markdown",
      "metadata": {
        "id": "ElRNjhlYRFuw"
      },
      "source": [
        "<h6> Since, <b>'agency_code'</b> column and <b>'agency_jurisdiction'</b> column have similar patterns....They both refer to the similar thing. If we use both features during our data modelling then these two features will be highly correlated so we can drop any one column... Here, we are dropping <b>'agency_code'</b> column and storing the remaining columns in another df </h6>"
      ]
    },
    {
      "cell_type": "code",
      "metadata": {
        "id": "4i8cxO0HRInV"
      },
      "source": [
        "df2 = df.drop('agency_code',axis=1)\n",
        "df2.head()"
      ],
      "execution_count": null,
      "outputs": []
    },
    {
      "cell_type": "markdown",
      "metadata": {
        "id": "d2JYC7n8RMMm"
      },
      "source": [
        "**<h4>Handling missing values in 'population column'</h4>**"
      ]
    },
    {
      "cell_type": "code",
      "metadata": {
        "id": "OUF8aS_8RNYE"
      },
      "source": [
        "df2.loc[df2['population'].isnull(),'agency_jurisdiction'].value_counts()"
      ],
      "execution_count": null,
      "outputs": []
    },
    {
      "cell_type": "markdown",
      "metadata": {
        "id": "WO4zeJu2RQ_j"
      },
      "source": [
        "<h6>When we explore the values that went missing in the population, we found that <b>41</b> values were missing from <b>'United States'</b> city in <b>'agency_jurisdiction'</b> column and <b>28</b> values were missing from </b>'Louisville, KY'</b> city in <b>'agency_jurisdiction'</b> column.</h6>\n",
        "\n",
        "<h6> When we see the missing values from <b>'Louisville, KY'</b> city in <b>'agency_jurisdiction'</b> column, we found out that the data from <b>1975-2002</b> were missing but others are available...</h6>\n",
        "\n",
        "<h6> Also to note that there is no such city or state with name <b>'United States'</b> in America.. Probably this column want to show all other cities and states which were <b>not covered in 'agency_jurisdiction' column...</b> But for modelling, we need clean and quality data so, we are removing the rows with the missing values in <b>'population' column.</b></h6>"
      ]
    },
    {
      "cell_type": "code",
      "metadata": {
        "id": "iGKA3uVlRSz5"
      },
      "source": [
        "df2 = df2.loc[~df2['population'].isnull(),:]\n",
        "df2.shape"
      ],
      "execution_count": null,
      "outputs": []
    },
    {
      "cell_type": "markdown",
      "metadata": {
        "id": "B6P5z05aSHS4"
      },
      "source": [
        "**<h4>Handling missing values in four columns: 'homicides' , 'rapes' , 'assaults', 'robberies' columns at once </h4>**"
      ]
    },
    {
      "cell_type": "code",
      "metadata": {
        "id": "MWx7Gvm9SHkq"
      },
      "source": [
        "df2.loc[df2['homicides'].isnull(),'agency_jurisdiction'].value_counts()"
      ],
      "execution_count": null,
      "outputs": []
    },
    {
      "cell_type": "code",
      "metadata": {
        "id": "wphRXqLTSJUI"
      },
      "source": [
        "df2.loc[df2['rapes'].isnull(),'agency_jurisdiction'].value_counts()"
      ],
      "execution_count": null,
      "outputs": []
    },
    {
      "cell_type": "code",
      "metadata": {
        "id": "7B7Ym1ioSKtq"
      },
      "source": [
        "df2.loc[df2['assaults'].isnull(),'agency_jurisdiction'].value_counts()"
      ],
      "execution_count": null,
      "outputs": []
    },
    {
      "cell_type": "code",
      "metadata": {
        "id": "EQcQcv3KSM7w"
      },
      "source": [
        "df2.loc[df2['robberies'].isnull(),'agency_jurisdiction'].value_counts()"
      ],
      "execution_count": null,
      "outputs": []
    },
    {
      "cell_type": "markdown",
      "metadata": {
        "id": "vY2-yTptSRjn"
      },
      "source": [
        "<h6>When we explore the missing values in each of these column, we found that all of them have <b>the same number of missing values</b> and <b>the data which have missing value in any one column also has missing values in other columns</b>.. Let's visualize it in dataframes</h6>"
      ]
    },
    {
      "cell_type": "markdown",
      "metadata": {
        "id": "He69Nez1SThn"
      },
      "source": [
        "**<h6> Filling missing values of 'homicides' column </h6>**"
      ]
    },
    {
      "cell_type": "code",
      "metadata": {
        "id": "qF5mEZ67SV8S"
      },
      "source": [
        "df2.loc[df2['homicides'].isnull(),:]"
      ],
      "execution_count": null,
      "outputs": []
    },
    {
      "cell_type": "markdown",
      "metadata": {
        "id": "B2Wtvm6jSZea"
      },
      "source": [
        "**<h5> Filling the missing values of 'homicides' column with the mean of the similar distribution</h5>**"
      ]
    },
    {
      "cell_type": "code",
      "metadata": {
        "id": "7kd-FeT-SbSG"
      },
      "source": [
        "print(round(df2.loc[(df2['agency_jurisdiction']==\"Cincinnati, OH\") & (df2['population'] > 300000.0) & (df2['population'] < 400000.0),'homicides'].mean()))\n",
        "print(round(df2.loc[(df2['agency_jurisdiction']==\"Baltimore County, MD\") & (df2['population'] > 800000.0) & (df2['population'] < 900000.0),'homicides'].mean()))\n",
        "print(round(df2.loc[(df2['agency_jurisdiction']==\"Cleveland, OH\") & (df2['population'] > 300000.0) & (df2['population'] < 400000.0),'homicides'].mean()))\n",
        "print(round(df2.loc[(df2['agency_jurisdiction']==\"Portland, OR\") & (df2['population'] > 600000.0) & (df2['population'] < 700000.0),'homicides'].mean()))\n",
        "print(round(df2.loc[(df2['agency_jurisdiction']==\"Tampa, FL\") & (df2['population'] > 200000.0) & (df2['population'] < 300000.0),'homicides'].mean()))"
      ],
      "execution_count": null,
      "outputs": []
    },
    {
      "cell_type": "markdown",
      "metadata": {
        "id": "zcGd9KvWSftH"
      },
      "source": [
        "<p> We can fill the missing values with the mean of the overall distribution as well. But here we are following a diiferent approach for filling the missing values. </p>\n",
        "<p> When we check the missing values in the <b>'homicides'</b> column, they were from <b>five different cities.</b> We then checked the population column and see the distribution of values in the <b>'population'</b> column. Finally calculate the mean of the data belonging to <b>'homicides column'</b> and with the similar distribution of values in the 'population' column in our missing rows and use it to fill the missing value in <b>'agency_jurisdiction'</b>' column.</p>"
      ]
    },
    {
      "cell_type": "code",
      "metadata": {
        "id": "jfhlyEbZSgUx"
      },
      "source": [
        "df2.loc[(df2['homicides'].isnull()) & (df2['agency_jurisdiction']==\"Cincinnati, OH\"),'homicides'] = round(df2.loc[(df2['agency_jurisdiction']==\"Cincinnati, OH\") & (df2['population'] > 300000.0) & (df2['population'] < 400000.0),'homicides'].mean())\n",
        "df2.loc[(df2['homicides'].isnull()) & (df2['agency_jurisdiction']==\"Baltimore County, MD\"),'homicides'] = round(df2.loc[(df2['agency_jurisdiction']==\"Baltimore County, MD\") & (df2['population'] > 800000.0) & (df2['population'] < 900000.0),'homicides'].mean())\n",
        "df2.loc[(df2['homicides'].isnull()) & (df2['agency_jurisdiction']==\"Cleveland, OH\"),'homicides'] = round(df2.loc[(df2['agency_jurisdiction']==\"Cleveland, OH\") & (df2['population'] > 300000.0) & (df2['population'] < 400000.0),'homicides'].mean())\n",
        "df2.loc[(df2['homicides'].isnull()) & (df2['agency_jurisdiction']==\"Portland, OR\"),'homicides'] = round(df2.loc[(df2['agency_jurisdiction']==\"Portland, OR\") & (df2['population'] > 600000.0) & (df2['population'] < 700000.0),'homicides'].mean())\n",
        "df2.loc[(df2['homicides'].isnull()) & (df2['agency_jurisdiction']==\"Tampa, FL\"),\"homicides\"] = round(df2.loc[(df2['agency_jurisdiction']==\"Tampa, FL\") & (df2['population'] > 200000.0) & (df2['population'] < 300000.0),'homicides'].mean())"
      ],
      "execution_count": null,
      "outputs": []
    },
    {
      "cell_type": "markdown",
      "metadata": {
        "id": "ViGjm3jhSmMm"
      },
      "source": [
        "**<h5>Filling the missing values of rapes column</h5>**"
      ]
    },
    {
      "cell_type": "code",
      "metadata": {
        "id": "PxqtLvmcSmb5"
      },
      "source": [
        "df2.loc[df2['rapes'].isnull(),:]"
      ],
      "execution_count": null,
      "outputs": []
    },
    {
      "cell_type": "code",
      "metadata": {
        "id": "qbL-gIJDSpYo"
      },
      "source": [
        "df2.loc[(df2['rapes'].isnull()) & (df2['agency_jurisdiction']==\"Cincinnati, OH\"),'rapes'] = round(df2.loc[(df2['agency_jurisdiction']==\"Cincinnati, OH\") & (df2['population'] > 300000.0) & (df2['population'] < 400000.0),'rapes'].mean())\n",
        "df2.loc[(df2['rapes'].isnull()) & (df2['agency_jurisdiction']==\"Baltimore County, MD\"),'rapes'] = round(df2.loc[(df2['agency_jurisdiction']==\"Baltimore County, MD\") & (df2['population'] > 800000.0) & (df2['population'] < 900000.0),'rapes'].mean())\n",
        "df2.loc[(df2['rapes'].isnull()) & (df2['agency_jurisdiction']==\"Cleveland, OH\"),'rapes'] = round(df2.loc[(df2['agency_jurisdiction']==\"Cleveland, OH\") & (df2['population'] > 300000.0) & (df2['population'] < 400000.0),'rapes'].mean())\n",
        "df2.loc[(df2['rapes'].isnull()) & (df2['agency_jurisdiction']==\"Portland, OR\"),'rapes'] = round(df2.loc[(df2['agency_jurisdiction']==\"Portland, OR\") & (df2['population'] > 600000.0) & (df2['population'] < 700000.0),'rapes'].mean())\n",
        "df2.loc[(df2['rapes'].isnull()) & (df2['agency_jurisdiction']==\"Tampa, FL\"),\"rapes\"] = round(df2.loc[(df2['agency_jurisdiction']==\"Tampa, FL\") & (df2['population'] > 200000.0) & (df2['population'] < 300000.0),'rapes'].mean())"
      ],
      "execution_count": null,
      "outputs": []
    },
    {
      "cell_type": "markdown",
      "metadata": {
        "id": "Wp4eTlFzStSr"
      },
      "source": [
        "<p> When we check the missing values in the <b>'rapes'</b> column, the missing values were from <b>five different cities.</b> We then checked the <b>'population' </b> column and see the distribution of values in that column.  Finally, we calculate the mean of the data belonging to <b>'rapes' </b> column and with the similar distribution of values in the 'population' column in our missing rows and use it to fill the missing value in <b>'agency_jurisdiction'</b>' column.</p>"
      ]
    },
    {
      "cell_type": "markdown",
      "metadata": {
        "id": "5QY656MASv4t"
      },
      "source": [
        "**<h5>Filling the missing values of assaults column </h5>**"
      ]
    },
    {
      "cell_type": "code",
      "metadata": {
        "id": "LuYPsTgpSxsv"
      },
      "source": [
        "df2.loc[df2['assaults'].isnull(),:]"
      ],
      "execution_count": null,
      "outputs": []
    },
    {
      "cell_type": "code",
      "metadata": {
        "id": "_Vj0kZaBSz6L"
      },
      "source": [
        "df2.loc[(df2['assaults'].isnull()) & (df2['agency_jurisdiction']==\"Cincinnati, OH\"),'assaults'] = round(df2.loc[(df2['agency_jurisdiction']==\"Cincinnati, OH\") & (df2['population'] > 300000.0) & (df2['population'] < 400000.0),'assaults'].mean())\n",
        "df2.loc[(df2['assaults'].isnull()) & (df2['agency_jurisdiction']==\"Baltimore County, MD\"),'assaults'] = round(df2.loc[(df2['agency_jurisdiction']==\"Baltimore County, MD\") & (df2['population'] > 800000.0) & (df2['population'] < 900000.0),'assaults'].mean())\n",
        "df2.loc[(df2['assaults'].isnull()) & (df2['agency_jurisdiction']==\"Cleveland, OH\"),'assaults'] = round(df2.loc[(df2['agency_jurisdiction']==\"Cleveland, OH\") & (df2['population'] > 300000.0) & (df2['population'] < 400000.0),'assaults'].mean())\n",
        "df2.loc[(df2['assaults'].isnull()) & (df2['agency_jurisdiction']==\"Portland, OR\"),'assaults'] = round(df2.loc[(df2['agency_jurisdiction']==\"Portland, OR\") & (df2['population'] > 600000.0) & (df2['population'] < 700000.0),'assaults'].mean())\n",
        "df2.loc[(df2['assaults'].isnull()) & (df2['agency_jurisdiction']==\"Tampa, FL\"),\"assaults\"] = round(df2.loc[(df2['agency_jurisdiction']==\"Tampa, FL\") & (df2['population'] > 200000.0) & (df2['population'] < 300000.0),'assaults'].mean())\n",
        "df2.loc[(df2['assaults'].isnull()) & (df2['agency_jurisdiction']==\"Jacksonville, FL\"),\"assaults\"] = round(df2.loc[(df2['agency_jurisdiction']==\"Jacksonville, FL\") & (df2['population'] > 600000.0) & (df2['population'] < 700000.0),'assaults'].mean())"
      ],
      "execution_count": null,
      "outputs": []
    },
    {
      "cell_type": "markdown",
      "metadata": {
        "id": "8kO5KVcHS3pV"
      },
      "source": [
        "<p> When we check the missing values in the <b>'assaults' </b> column, the missing values were from <b>five different cities.</b> We then checked the <b>'population' </b> column and see the distribution of values in that column.  Finally, we calculate the mean of the data belonging to <b>'assaults' </b> column and with the similar distribution of values in the 'population' column in our missing rows and use it to fill the missing value in <b>'agency_jurisdiction'</b>' column.</p>"
      ]
    },
    {
      "cell_type": "markdown",
      "metadata": {
        "id": "zyfze8f-S6GP"
      },
      "source": [
        "**<h5>Filling the missing values of 'robberies' column </h5>**"
      ]
    },
    {
      "cell_type": "code",
      "metadata": {
        "id": "Evard4kJS8Th"
      },
      "source": [
        "df2.loc[df2['robberies'].isnull(),:]"
      ],
      "execution_count": null,
      "outputs": []
    },
    {
      "cell_type": "code",
      "metadata": {
        "id": "mvhl4vNOS_0G"
      },
      "source": [
        "print(round(df2.loc[(df2['agency_jurisdiction']==\"Cincinnati, OH\") & (df2['population'] > 300000.0) & (df2['population'] < 400000.0),'robberies'].mean()))\n",
        "print(round(df2.loc[(df2['agency_jurisdiction']==\"Baltimore County, MD\") & (df2['population'] > 800000.0) & (df2['population'] < 900000.0),'robberies'].mean()))\n",
        "print(round(df2.loc[(df2['agency_jurisdiction']==\"Cleveland, OH\") & (df2['population'] > 300000.0) & (df2['population'] < 400000.0),'robberies'].mean()))\n",
        "print(round(df2.loc[(df2['agency_jurisdiction']==\"Portland, OR\") & (df2['population'] > 600000.0) & (df2['population'] < 700000.0),'robberies'].mean()))\n",
        "print(round(df2.loc[(df2['agency_jurisdiction']==\"Tampa, FL\") & (df2['population'] > 200000.0) & (df2['population'] < 300000.0),'robberies'].mean()))"
      ],
      "execution_count": null,
      "outputs": []
    },
    {
      "cell_type": "markdown",
      "metadata": {
        "id": "6jOP_3NPTIoD"
      },
      "source": [
        "<p> When we check the missing values in the <b>'robberies' </b> column, the missing values were from <b>five different cities.</b> We then checked the <b>'population' </b> column and see the distribution of values in that column.  Finally, we calculate the mean of the data belonging to <b>'robberies' </b> column and with the similar distribution of values in the 'population' column in our missing rows and use it to fill the missing value in <b>'agency_jurisdiction'</b>' column.</p>"
      ]
    },
    {
      "cell_type": "code",
      "metadata": {
        "id": "uE3env4xTKiT"
      },
      "source": [
        "df2.loc[(df2['robberies'].isnull()) & (df2['agency_jurisdiction']==\"Cincinnati, OH\"),'robberies'] = round(df2.loc[(df2['agency_jurisdiction']==\"Cincinnati, OH\") & (df2['population'] > 300000.0) & (df2['population'] < 400000.0),'robberies'].mean())\n",
        "df2.loc[(df2['robberies'].isnull()) & (df2['agency_jurisdiction']==\"Baltimore County, MD\"),'robberies'] = round(df2.loc[(df2['agency_jurisdiction']==\"Baltimore County, MD\") & (df2['population'] > 800000.0) & (df2['population'] < 900000.0),'robberies'].mean())\n",
        "df2.loc[(df2['robberies'].isnull()) & (df2['agency_jurisdiction']==\"Cleveland, OH\"),'robberies'] = round(df2.loc[(df2['agency_jurisdiction']==\"Cleveland, OH\") & (df2['population'] > 300000.0) & (df2['population'] < 400000.0),'robberies'].mean())\n",
        "df2.loc[(df2['robberies'].isnull()) & (df2['agency_jurisdiction']==\"Portland, OR\"),'robberies'] = round(df2.loc[(df2['agency_jurisdiction']==\"Portland, OR\") & (df2['population'] > 600000.0) & (df2['population'] < 700000.0),'robberies'].mean())\n",
        "df2.loc[(df2['robberies'].isnull()) & (df2['agency_jurisdiction']==\"Tampa, FL\"),'robberies'] = round(df2.loc[(df2['agency_jurisdiction']==\"Tampa, FL\") & (df2['population'] > 200000.0) & (df2['population'] < 300000.0),'robberies'].mean())"
      ],
      "execution_count": null,
      "outputs": []
    },
    {
      "cell_type": "markdown",
      "metadata": {
        "id": "4e-N7p5WTNuu"
      },
      "source": [
        "**<h5> Filling the missing values of violent_crimes' column. </h5>**"
      ]
    },
    {
      "cell_type": "code",
      "metadata": {
        "id": "o989sKMiTPg4"
      },
      "source": [
        "df2.loc[df2['violent_crimes'] == (df2['homicides'] + df2['rapes'] + df2['assaults'] + df2['robberies']),:]"
      ],
      "execution_count": null,
      "outputs": []
    },
    {
      "cell_type": "markdown",
      "metadata": {
        "id": "N2h-MuSaTS9E"
      },
      "source": [
        "<h6> When we check, whether the <b>'violent_crimes'</b> column is just a separate column or is it a column which is derived from combining the values from all four types of crimes, we found that it is a derived column.. About <b>2753</b> rows have the value of <b>'violent_crimes'</b> equal to the sum of four different types of crime in four different columns. There were <b>7 missing rows</b> in all those four columns and we manage to fill the missing values of those column.. So, let's first check how many missing values are there in <b>'violent_crimes'</b> column and then fill the missing values with the sum of other four values in four different columns. </h6>"
      ]
    },
    {
      "cell_type": "code",
      "metadata": {
        "id": "XtrU27jtTWy4"
      },
      "source": [
        "df2.loc[df2['violent_crimes'].isnull(),:]"
      ],
      "execution_count": null,
      "outputs": []
    },
    {
      "cell_type": "code",
      "metadata": {
        "id": "4qDCb4eMTaWA"
      },
      "source": [
        "df2.loc[df2['violent_crimes'].isnull(),'violent_crimes'] = df2.loc[df2['violent_crimes'].isnull(),'homicides'] + df2.loc[df2['violent_crimes'].isnull(),'rapes'] + df2.loc[df2['violent_crimes'].isnull(),'assaults'] + df2.loc[df2['violent_crimes'].isnull(),'robberies']"
      ],
      "execution_count": null,
      "outputs": []
    },
    {
      "cell_type": "markdown",
      "metadata": {
        "id": "uj9AU5OaTdDI"
      },
      "source": [
        "**<h5>Handling missing values in 'months_reported' column </h5>**"
      ]
    },
    {
      "cell_type": "code",
      "metadata": {
        "id": "g9cNiLZCTfWs"
      },
      "source": [
        "df2['months_reported'].value_counts()"
      ],
      "execution_count": null,
      "outputs": []
    },
    {
      "cell_type": "code",
      "metadata": {
        "id": "Lk68WZmQTh9w"
      },
      "source": [
        "df2.loc[df2['months_reported'].isnull(),:]"
      ],
      "execution_count": null,
      "outputs": []
    },
    {
      "cell_type": "markdown",
      "metadata": {
        "id": "F2Vq5c_OTlbL"
      },
      "source": [
        "<h6> Here, in this column we can see that most of the crimes were reported at the <b>end of the month in december</b> and <b>68 rows</b> of this column are missing ... and <b>very few crime cases were reported at other times of the month..</b> So, we can drop this column since it is only pointing out to the end of the month i.e. '12' </h6>"
      ]
    },
    {
      "cell_type": "code",
      "metadata": {
        "id": "tqtJSOlQTnbV"
      },
      "source": [
        "df2 = df2.drop('months_reported',axis=1)\n",
        "df2.head()"
      ],
      "execution_count": null,
      "outputs": []
    },
    {
      "cell_type": "markdown",
      "metadata": {
        "id": "iwfjOlgXTp8r"
      },
      "source": [
        "**<h5>Handling missing values in 'homicides_percapita' , 'rapes_percapita' , 'assaults_percapita' , 'robberies_percapita' columns at once </h6>**"
      ]
    },
    {
      "cell_type": "code",
      "metadata": {
        "id": "3a9xLIMlTsSb"
      },
      "source": [
        "df2.loc[df2['homicides_percapita'].isnull(),:]"
      ],
      "execution_count": null,
      "outputs": []
    },
    {
      "cell_type": "code",
      "metadata": {
        "id": "aPyFN7ocTtNJ"
      },
      "source": [
        "df2.loc[df2['rapes_percapita'].isnull(),:]"
      ],
      "execution_count": null,
      "outputs": []
    },
    {
      "cell_type": "code",
      "metadata": {
        "id": "vhdzUutQTwEK"
      },
      "source": [
        "df2.loc[df2['assaults_percapita'].isnull(),:]"
      ],
      "execution_count": null,
      "outputs": []
    },
    {
      "cell_type": "code",
      "metadata": {
        "id": "vL8YAxoUTzoc"
      },
      "source": [
        "df2.loc[df2['robberies_percapita'].isnull(),:]"
      ],
      "execution_count": null,
      "outputs": []
    },
    {
      "cell_type": "code",
      "metadata": {
        "id": "mHCV0ZA3T2iL"
      },
      "source": [
        "df2.loc[df2['homicides_percapita'].isnull(),'homicides_percapita'] = round((df2.loc[df2['homicides_percapita'].isnull(),'homicides'] / df2.loc[df2['homicides_percapita'].isnull(),'population']) * 100000,2)\n",
        "df2.loc[df2['rapes_percapita'].isnull(),'rapes_percapita'] = round((df2.loc[df2['rapes_percapita'].isnull(),'rapes'] / df2.loc[df2['rapes_percapita'].isnull(),'population']) * 100000,2)\n",
        "df2.loc[df2['assaults_percapita'].isnull(),'assaults_percapita'] = round((df2.loc[df2['assaults_percapita'].isnull(),'assaults'] / df2.loc[df2['assaults_percapita'].isnull(),'population']) * 100000,2)\n",
        "df2.loc[df2['robberies_percapita'].isnull(),'robberies_percapita'] = round((df2.loc[df2['robberies_percapita'].isnull(),'robberies'] / df2.loc[df2['robberies_percapita'].isnull(),'population']) * 100000,2)\n"
      ],
      "execution_count": null,
      "outputs": []
    },
    {
      "cell_type": "markdown",
      "metadata": {
        "id": "iXuCiVPqT6Qg"
      },
      "source": [
        "**<h6>Handling missing values in 'crimes_percapita' column. </h6>**"
      ]
    },
    {
      "cell_type": "code",
      "metadata": {
        "id": "Uc0f56hUT7sZ"
      },
      "source": [
        "df2.loc[df2['crimes_percapita'].isnull(),:]"
      ],
      "execution_count": null,
      "outputs": []
    },
    {
      "cell_type": "markdown",
      "metadata": {
        "id": "iPaFFhuNUA98"
      },
      "source": [
        "<h6> The sum of four columns : <b>'homicides_percapita'</b>, <b>'rapes_percapita'</b>, <b>'assaults_percapita'</b> and <b>'robberies_percapita'</b> are combined together through aggregation(sum) to form <b>'crimes_percapita'</b>. When we explore the <b>'crimes_percapita'</b> column, there are <b>7</b> missing values in the column so replacing such missing values with the summation of other four columns. </h6>"
      ]
    },
    {
      "cell_type": "code",
      "metadata": {
        "id": "8Qy42FI8UE7U"
      },
      "source": [
        "df2.loc[df2['crimes_percapita'].isnull(),'crimes_percapita'] = df2.loc[df2['crimes_percapita'].isnull(),'homicides_percapita'] + df2.loc[df2['crimes_percapita'].isnull(),'rapes_percapita'] + df2.loc[df2['crimes_percapita'].isnull(),'assaults_percapita'] + df2.loc[df2['crimes_percapita'].isnull(),'robberies_percapita'] "
      ],
      "execution_count": null,
      "outputs": []
    },
    {
      "cell_type": "markdown",
      "metadata": {
        "id": "BMAdpqa-UFy-"
      },
      "source": [
        "#Basic Data Analysis And Visualization "
      ]
    },
    {
      "cell_type": "code",
      "metadata": {
        "id": "YqDeHHSkUIy2"
      },
      "source": [
        "df2.info()"
      ],
      "execution_count": null,
      "outputs": []
    },
    {
      "cell_type": "code",
      "metadata": {
        "id": "SR7ITVq-469u"
      },
      "source": [
        "df2.describe()"
      ],
      "execution_count": null,
      "outputs": []
    },
    {
      "cell_type": "markdown",
      "metadata": {
        "id": "MMSCNjiT49EU"
      },
      "source": [
        "**<h6> Which cities of America have reported the most number of violent crime cases in the last 40 years? </h6>**"
      ]
    },
    {
      "cell_type": "code",
      "metadata": {
        "id": "_xGV09Ly49cC"
      },
      "source": [
        "ax=plt.figure(figsize=(10,22))\n",
        "ax = sns.barplot(df2[\"violent_crimes\"],                 \n",
        "                 y=df2[\"agency_jurisdiction\"],estimator=sum,color=\"y\")\n",
        "ax.set_title('Total number of crimes in major cities from 1975 to 2015')\n",
        "ax.set(xlabel='Total number of crimes', ylabel='City and state')"
      ],
      "execution_count": null,
      "outputs": []
    },
    {
      "cell_type": "markdown",
      "metadata": {
        "id": "HlPI67-E5Cr-"
      },
      "source": [
        "From the above bar graph, we can see that the <b>'New York City'</b> has reported the most number of violent crime cases in the last 40 years. More than <b>4 million criminal cases</b> are being reported in <b>40 years time</b> only in <b>'New York' city from 1975 to 2015.</b>\n",
        "\n",
        "Second and third in our list, are <b>'Los Angeles' and 'Chigago'</b>. These cities also have reported around <b>2 million violent criminal cases in the 40 years.</b>\n",
        "\n",
        "<b>'Baltimore Md' , 'Washington, DC','Philadelphia','TA,Houseton', 'Deteroit, Dallas','Miami-Dade Country'</b> are the top cities or states in the USA with greater number of cases than other states in the USA in 40 years time."
      ]
    },
    {
      "cell_type": "markdown",
      "metadata": {
        "id": "c9CugPN95DX9"
      },
      "source": [
        "**<h6>Which is the most reported violent crime among all violent crimes in all times?</h6>**"
      ]
    },
    {
      "cell_type": "code",
      "metadata": {
        "id": "LjuPIhBd5F8h"
      },
      "source": [
        "ax=plt.figure(figsize=(15,15))\n",
        "ax = sns.barplot(['homicides','rapes','assaults','robberies'],                 \n",
        "                 y=[df2[\"homicides\"].sum(),df2['rapes'].sum(),df2['assaults'].sum(),df2['robberies'].sum()],color=\"b\")\n",
        "ax.set_title('Total number of crimes in major cities from 1975 to 2015')\n",
        "ax.set(xlabel='Total number of crimes', ylabel='City and state')\n",
        "for p in ax.patches:\n",
        "    height = p.get_height()\n",
        "    ax.text(p.get_x()+p.get_width()/2,height + 5,'{}'.format(height),ha=\"center\")"
      ],
      "execution_count": null,
      "outputs": []
    },
    {
      "cell_type": "markdown",
      "metadata": {
        "id": "6ePF5_uB5KwX"
      },
      "source": [
        "<p>From this bar graph, we can see that  <b>'assaults'</b> has topped the list in violent crimes that existed between 1975 to 2015 in USA. <b>More than 12 million cases were reported as 'assaults' in the last 40 years.</b></p>\n",
        "<p>Second in our list is <b>'robberies'</b>. <b>More than 11 million 'robberies'</b> were reported in the USA during the 40 year period covered by the dataset. <b>'Homicides'</b> has the lowest number of cases reported in the USA.<b> More than one million 'rapes'</b> were reported in the USA in the  40-year period..."
      ]
    },
    {
      "cell_type": "markdown",
      "metadata": {
        "id": "HyLSnmcER2MI"
      },
      "source": [
        "#Time Series Visualisation and Analysis"
      ]
    },
    {
      "cell_type": "markdown",
      "metadata": {
        "id": "KGL54_1y5LkQ"
      },
      "source": [
        "**<h3> Let's visualize the curve to see the time series analysis of total crime that occur in the USA in 1975-2015 </h3>**\n",
        "\n",
        "**<h3>Time series analysis of reported violent crime cases in different cities in 1975-2015</h3>**"
      ]
    },
    {
      "cell_type": "markdown",
      "metadata": {
        "id": "mnc5zdeRSrmx"
      },
      "source": [
        "##General Crimes Over the Country"
      ]
    },
    {
      "cell_type": "code",
      "metadata": {
        "id": "6yfJfeuF5ODK"
      },
      "source": [
        "def configure_plotly_browser_state():\n",
        "  import IPython\n",
        "  display(IPython.core.display.HTML('''\n",
        "        <script src=\"/static/components/requirejs/require.js\"></script>\n",
        "        <script>\n",
        "          requirejs.config({\n",
        "            paths: {\n",
        "              base: '/static/base',\n",
        "              plotly: 'https://cdn.plot.ly/plotly-latest.min.js?noext',\n",
        "            },\n",
        "          });\n",
        "        </script>\n",
        "        '''))"
      ],
      "execution_count": null,
      "outputs": []
    },
    {
      "cell_type": "code",
      "metadata": {
        "id": "UDbS93oY5RB4"
      },
      "source": [
        "import plotly.offline as py\n",
        "configure_plotly_browser_state()\n",
        "py.init_notebook_mode(connected=False)\n",
        "import plotly.graph_objs as go\n",
        "\n",
        "a = set(df2[\"agency_jurisdiction\"])\n",
        "# print(a)\n",
        "a = list(a)\n",
        "# print(a)\n",
        "\n",
        "doubles = []\n",
        "for i in range(0,len(a)):\n",
        "    doubles.append(df2[df2['agency_jurisdiction'].str.contains(a[i])])\n",
        "\n",
        "# trace = dict()\n",
        "trace = []\n",
        "for i in range(0,len(a)):\n",
        "    trace.append(go.Scatter(x = doubles[i]['report_year'],y=doubles[i]['violent_crimes'],name = a[i],opacity = 0.8))\n",
        "\n",
        "data = [trace[0],trace[1],trace[2],trace[3],trace[4],trace[5],trace[6],trace[7],trace[8],trace[9],\n",
        "        trace[10],trace[11],trace[12],trace[13],trace[14],trace[15],trace[16],trace[17],trace[18],trace[19],\n",
        "         trace[20],trace[21],trace[22],trace[23],trace[24],trace[25],trace[26],trace[27],trace[28],trace[29],\n",
        "          trace[30],trace[31],trace[32],trace[33],trace[34],trace[35],trace[36],trace[37],trace[38],trace[39],\n",
        "           trace[40],trace[41],trace[42],trace[43],trace[44],trace[45],trace[46],trace[47],trace[48],trace[49],\n",
        "            trace[50],trace[51],trace[52],trace[53],trace[54],trace[55],trace[56],trace[57],trace[58],trace[59],\n",
        "             trace[60],trace[61],trace[62],trace[63],trace[64],trace[65],trace[66],trace[67]]\n",
        "\n",
        "# layout = dict(title = \"Total Crimes in US during in 40 years\",\n",
        "#               xaxis = dict(title = 'Time Span'),\n",
        "#               yaxis = dict(title = 'Cumulative crimes'),)\n",
        "\n",
        "layout = go.Layout(title = \"Total Crimes in major cities from 1975 to 2015\",\n",
        "              xaxis = dict(title = 'Time Span'),\n",
        "              yaxis = dict(title = 'Cumulative crimes'))\n",
        "\n",
        "# fig = dict(data=data, layout=layout)\n",
        "fig = go.Figure(data = data, layout = layout)\n",
        "py.iplot(fig)\n",
        "# fig.show()"
      ],
      "execution_count": null,
      "outputs": []
    },
    {
      "cell_type": "markdown",
      "metadata": {
        "id": "a0wTChp06V0q"
      },
      "source": [
        "**<h5>PLEASE NOTE THAT THE GRAPH IS INTERACTIVE. IT IS POSSIBLE TO SELECT ONLY THE LINE FOR ONE CITY OR TO SELECT ONLY THE ONES THE VIEWER IS INTERESTED IN.  </h5>**"
      ]
    },
    {
      "cell_type": "markdown",
      "metadata": {
        "id": "6PLuu3g75aCz"
      },
      "source": [
        "<p>From this above figure, we can visualize the number of crime in the USA over the time span of 40 years. We can see New York city tops the list in commiting more crimes. After New York, Los Angeles and Chicago have reported the most number of crimes.</p>\n",
        "<p>From the given time series analysis, we can see that the crime rates were at their peak in 1990s.. After the 1990s, the crime rates have significantly dropped in the three mentioned cities .. </p>\n",
        "<p> We can also see the the increase that was recorded in Los Angeles when isolating the trace of that city. The rates were dropping from the high ones at the beggining of the 90s, until 1997-2002 where the rates have increased briefly, only to later continue dropping. </p>"
      ]
    },
    {
      "cell_type": "markdown",
      "metadata": {
        "id": "Esn1di7v5cbW"
      },
      "source": [
        "<p> We have visulaize the overall crime according to the geographic in the above figure </p>\n",
        "\n",
        "**<h5>Now, let's look at each specific crime that occurs in USA in the last 40 years. First we are going to see the number of the rape cases that is reported in the USA in the last 40 years </h5>**"
      ]
    },
    {
      "cell_type": "code",
      "metadata": {
        "id": "7FWMAcue5e_4"
      },
      "source": [
        "configure_plotly_browser_state()\n",
        "py.init_notebook_mode(connected=False)\n",
        "\n",
        "\n",
        "a = set(df2[\"agency_jurisdiction\"])\n",
        "# print(a)\n",
        "a = list(a)\n",
        "# print(a)\n",
        "\n",
        "doubles = dict()\n",
        "for i in range(0,len(a)):\n",
        "    doubles[i] = df2[df2['agency_jurisdiction'].str.contains(a[i])]\n",
        "\n",
        "trace = dict()\n",
        "for i in range(0,len(a)):\n",
        "    trace[i] = go.Scatter(x = doubles[i]['report_year'],y=doubles[i]['rapes'],name = a[i],opacity = 0.8)\n",
        "\n",
        "data = [trace[0],trace[1],trace[2],trace[3],trace[4],trace[5],trace[6],trace[7],trace[8],trace[9],\n",
        "        trace[10],trace[11],trace[12],trace[13],trace[14],trace[15],trace[16],trace[17],trace[18],trace[19],\n",
        "         trace[20],trace[21],trace[22],trace[23],trace[24],trace[25],trace[26],trace[27],trace[28],trace[29],\n",
        "          trace[30],trace[31],trace[32],trace[33],trace[34],trace[35],trace[36],trace[37],trace[38],trace[39],\n",
        "           trace[40],trace[41],trace[42],trace[43],trace[44],trace[45],trace[46],trace[47],trace[48],trace[49],\n",
        "            trace[50],trace[51],trace[52],trace[53],trace[54],trace[55],trace[56],trace[57],trace[58],trace[59],\n",
        "             trace[60],trace[61],trace[62],trace[63],trace[64],trace[65],trace[66],trace[67]]\n",
        "\n",
        "layout = dict(title = \"Rape cases in major cities from 1975 to 2015\",\n",
        "              xaxis = dict(title = 'Time Span'),\n",
        "              yaxis = dict(title = 'Cumulative crimes'),)\n",
        "\n",
        "fig = dict(data=data, layout=layout)\n",
        "py.iplot(fig)"
      ],
      "execution_count": null,
      "outputs": []
    },
    {
      "cell_type": "markdown",
      "metadata": {
        "id": "qU2Yrj0f5oAq"
      },
      "source": [
        "<p>From this  figure, we can visualize the number of rape cases in the USA over the time span of 40 years. We can see New York city tops the list in reporting rape cases. 3880 rape cases were reported in 1985 which was maximum at that time in New York city. After 1995, rape cases went down in New York city but started increasing after 2013. </p>\n",
        " <p>After New York, Chicago reported the most number of rape cases. The rape cases begin increasing in Chicago from 1982 and went to their peak in 1992. In that year, 3754 rape crimes were reported. After 1992, the rape cases is in control and the number of cases are declining, but still as of 2015, the third largest city with this issue.</p>\n",
        "\n",
        "<p> We can also see the spikes were seen in Los Angeles as well.In 1980,Los Angeles reported the most number of rape cases. About 2813 cases were reported in that year in LA. After then, the cases stay on a constant decline until 2013. Not only were they increasing from 2013 to 2015, but they were dramatically increasing, at a rate higher than at any time during the 40 year period. </p>"
      ]
    },
    {
      "cell_type": "markdown",
      "metadata": {
        "id": "91nIue215ui_"
      },
      "source": [
        "**<h5>Time series analysis of homicide cases in different cities in last 40 years</h5>**"
      ]
    },
    {
      "cell_type": "code",
      "metadata": {
        "id": "zuCiLRDG5vNs"
      },
      "source": [
        "configure_plotly_browser_state()\n",
        "py.init_notebook_mode(connected=False)\n",
        "\n",
        "a = set(df2[\"agency_jurisdiction\"])\n",
        "# print(a)\n",
        "a = list(a)\n",
        "# print(a)\n",
        "\n",
        "doubles = dict()\n",
        "for i in range(0,len(a)):\n",
        "    doubles[i] = df2[df2['agency_jurisdiction'].str.contains(a[i])]\n",
        "\n",
        "trace = dict()\n",
        "for i in range(0,len(a)):\n",
        "    trace[i] = go.Scatter(x = doubles[i]['report_year'],y=doubles[i]['homicides'],name = a[i],opacity = 0.8)\n",
        "\n",
        "data = [trace[0],trace[1],trace[2],trace[3],trace[4],trace[5],trace[6],trace[7],trace[8],trace[9],\n",
        "        trace[10],trace[11],trace[12],trace[13],trace[14],trace[15],trace[16],trace[17],trace[18],trace[19],\n",
        "         trace[20],trace[21],trace[22],trace[23],trace[24],trace[25],trace[26],trace[27],trace[28],trace[29],\n",
        "          trace[30],trace[31],trace[32],trace[33],trace[34],trace[35],trace[36],trace[37],trace[38],trace[39],\n",
        "           trace[40],trace[41],trace[42],trace[43],trace[44],trace[45],trace[46],trace[47],trace[48],trace[49],\n",
        "            trace[50],trace[51],trace[52],trace[53],trace[54],trace[55],trace[56],trace[57],trace[58],trace[59],\n",
        "             trace[60],trace[61],trace[62],trace[63],trace[64],trace[65],trace[66],trace[67]]\n",
        "\n",
        "layout = dict(title = \"Homicide cases in major cities from 1975 to 2015\",\n",
        "              xaxis = dict(title = 'Time Span'),\n",
        "              yaxis = dict(title = 'Cumulative crimes'),)\n",
        "\n",
        "fig = dict(data=data, layout=layout)\n",
        "py.iplot(fig)"
      ],
      "execution_count": null,
      "outputs": []
    },
    {
      "cell_type": "markdown",
      "metadata": {
        "id": "BT9V-c4D50MK"
      },
      "source": [
        "<p>From this  figure, we can visualize the number of homicide cases in the USA over the time span of 40 years. We can see New York city tops the list in reporting maximum number of homicide cases. 2245 homicide cases were reported in 1990 which was maximum at that time in New York city. After 1990, the reporting of homicide cases is in control and the number of cases have significantly dropped. </p>"
      ]
    },
    {
      "cell_type": "markdown",
      "metadata": {
        "id": "1R5PqP0P52-o"
      },
      "source": [
        "**<h5>Time series analysis of assault cases in different cities in last 40 years</h5>**"
      ]
    },
    {
      "cell_type": "code",
      "metadata": {
        "id": "oHQdkasL53Vn",
        "cellView": "code"
      },
      "source": [
        "#@title Default title text\n",
        "configure_plotly_browser_state()\n",
        "py.init_notebook_mode(connected=False)\n",
        "\n",
        "a = set(df2[\"agency_jurisdiction\"])\n",
        "# print(a)\n",
        "a = list(a)\n",
        "# print(a)\n",
        "\n",
        "doubles = dict()\n",
        "for i in range(0,len(a)):\n",
        "    doubles[i] = df2[df2['agency_jurisdiction'].str.contains(a[i])]\n",
        "\n",
        "trace = dict()\n",
        "for i in range(0,len(a)):\n",
        "    trace[i] = go.Scatter(x = doubles[i]['report_year'],y=doubles[i]['assaults'],name = a[i],opacity = 0.8)\n",
        "\n",
        "data = [trace[0],trace[1],trace[2],trace[3],trace[4],trace[5],trace[6],trace[7],trace[8],trace[9],\n",
        "        trace[10],trace[11],trace[12],trace[13],trace[14],trace[15],trace[16],trace[17],trace[18],trace[19],\n",
        "         trace[20],trace[21],trace[22],trace[23],trace[24],trace[25],trace[26],trace[27],trace[28],trace[29],\n",
        "          trace[30],trace[31],trace[32],trace[33],trace[34],trace[35],trace[36],trace[37],trace[38],trace[39],\n",
        "           trace[40],trace[41],trace[42],trace[43],trace[44],trace[45],trace[46],trace[47],trace[48],trace[49],\n",
        "            trace[50],trace[51],trace[52],trace[53],trace[54],trace[55],trace[56],trace[57],trace[58],trace[59],\n",
        "             trace[60],trace[61],trace[62],trace[63],trace[64],trace[65],trace[66],trace[67]]\n",
        "\n",
        "layout = dict(title = \"Assault cases in US during in 40 years\",\n",
        "              xaxis = dict(title = 'Time Span'),\n",
        "              yaxis = dict(title = 'Cumulative crimes'),)\n",
        "\n",
        "fig = dict(data=data, layout=layout)\n",
        "py.iplot(fig)"
      ],
      "execution_count": null,
      "outputs": []
    },
    {
      "cell_type": "markdown",
      "metadata": {
        "id": "5ueJPOPc7ZS6"
      },
      "source": [
        "<p>From this  figure, we can visualize the number of assault cases in the USA over the time span of 40 years. We can see New York city tops the list in reporting maximum assault cases. About 71K assault cases were reported in 1988 which was maximum at that time in New York city. After 1988, assault cases went down in New York city and reached the minumum value in 2008 but after 2008, the assault cases were in increasing trend but not as much as in 1988</p>\n",
        "\n",
        " <p>After New York, Los Angeles has reported the most number of assault cases. They begin increasing in LA from the beginning (1975) and went at the peak in 1991, where around 47 thousand cases were reported. After 1991, the assault cases is in control and the number of cases are declining.</p>\n",
        "\n",
        "<p> We can also see that the spikes were seen in Chicago as well. At first, the assault cases were not that high, but they begin increasing from 1981 and went at their peak in 1991. In 1991, around 42K assault cases were reported in chicago, which was the most reported assault cases in Chicago in 40 years time span. After 1991, the assault cases is in control and the number of cases are declining in Chicago.</p>\n",
        "\n",
        "<p> It seems that towards the end of the 80s and the very beginning of the 90s, the United States had a criminality and violence problem, just by noticing that the peaks for the major cities are during that time frame. <p>"
      ]
    },
    {
      "cell_type": "code",
      "metadata": {
        "id": "OJ8QHnig7alz"
      },
      "source": [
        "#@title Default title text\n",
        "configure_plotly_browser_state()\n",
        "py.init_notebook_mode(connected=False)\n",
        "\n",
        "a = set(df2[\"agency_jurisdiction\"])\n",
        "# print(a)\n",
        "a = list(a)\n",
        "# print(a)\n",
        "\n",
        "doubles = dict()\n",
        "for i in range(0,len(a)):\n",
        "    doubles[i] = df2[df2['agency_jurisdiction'].str.contains(a[i])]\n",
        "\n",
        "trace = dict()\n",
        "for i in range(0,len(a)):\n",
        "    trace[i] = go.Scatter(x = doubles[i]['report_year'],y=doubles[i]['robberies'],name = a[i],opacity = 0.8)\n",
        "\n",
        "data = [trace[0],trace[1],trace[2],trace[3],trace[4],trace[5],trace[6],trace[7],trace[8],trace[9],\n",
        "        trace[10],trace[11],trace[12],trace[13],trace[14],trace[15],trace[16],trace[17],trace[18],trace[19],\n",
        "         trace[20],trace[21],trace[22],trace[23],trace[24],trace[25],trace[26],trace[27],trace[28],trace[29],\n",
        "          trace[30],trace[31],trace[32],trace[33],trace[34],trace[35],trace[36],trace[37],trace[38],trace[39],\n",
        "           trace[40],trace[41],trace[42],trace[43],trace[44],trace[45],trace[46],trace[47],trace[48],trace[49],\n",
        "            trace[50],trace[51],trace[52],trace[53],trace[54],trace[55],trace[56],trace[57],trace[58],trace[59],\n",
        "             trace[60],trace[61],trace[62],trace[63],trace[64],trace[65],trace[66],trace[67]]\n",
        "\n",
        "layout = dict(title = \"Robberies cases in major cities from 1975 to 2015\",\n",
        "              xaxis = dict(title = 'Time Span'),\n",
        "              yaxis = dict(title = 'Cumulative crimes'),)\n",
        "\n",
        "fig = dict(data=data, layout=layout)\n",
        "py.iplot(fig)"
      ],
      "execution_count": null,
      "outputs": []
    },
    {
      "cell_type": "markdown",
      "metadata": {
        "id": "OfdktQRq7iu8"
      },
      "source": [
        "<p>From this  figure, we can visualize the number of robberies cases in the USA over the time span of 40 years. We can see New York city tops the list in reporting robberies. About 107K cases were reported in 1981 which was maximum at that time in New York city. After 1981, robberies went down in New York city till 1987 and again the number of cases rises to reach more than 100K robberies cases in 1990 in New York. After then, the number of robberies cases has went down and is in control in New York.</p>"
      ]
    },
    {
      "cell_type": "markdown",
      "metadata": {
        "id": "TXYY1T-R7lXB"
      },
      "source": [
        "**<h5> We have seen 'New York', 'Los Angeles' and 'Chicago' are among the top cities where crimes are recorded at maximum. So, we are interested in visualizing the trend of 4 different crime cases in those cities with the help of a bar chart. </h5>** "
      ]
    },
    {
      "cell_type": "markdown",
      "metadata": {
        "id": "GIg1s5cFS3Ta"
      },
      "source": [
        "##Homicide Bar Graphs"
      ]
    },
    {
      "cell_type": "code",
      "metadata": {
        "id": "HKz6yW2C7lo0"
      },
      "source": [
        "NYC = df2.loc[df2['agency_jurisdiction']=='New York City, NY',:]\n",
        "LOS_ANGELS = df2.loc[df2['agency_jurisdiction']=='Los Angeles, CA',:]\n",
        "CHIGAGO = df2.loc[df2['agency_jurisdiction']=='Chicago, IL',:]"
      ],
      "execution_count": null,
      "outputs": []
    },
    {
      "cell_type": "markdown",
      "metadata": {
        "id": "f51Ys0YS7ngT"
      },
      "source": [
        "**<h5> Bar diagram of homicide cases in New York city over a span of 40 years </h5>**"
      ]
    },
    {
      "cell_type": "code",
      "metadata": {
        "id": "Fv3HUf7e7pKL"
      },
      "source": [
        "ax=plt.figure(figsize=(15,10))\n",
        "plt.xticks(rotation='vertical')\n",
        "ax=sns.barplot(NYC[\"report_year\"], NYC[\"homicides\"],palette=\"gist_earth\")\n",
        "\n",
        "plt.ylabel(\"Number of Homicides in New York\")"
      ],
      "execution_count": null,
      "outputs": []
    },
    {
      "cell_type": "markdown",
      "metadata": {
        "id": "RkFvSK6c7t6X"
      },
      "source": [
        "<p>From this bar diagram, we can see that number of homicide cases went at it's peak in 1990s with more than 2000 cases in New York city. After 1990, the homicide cases is in control and the number of cases are declining. </p>\n",
        "<p> Now, let's visaulize the number of homicide cases in Los Angeles in the span of 40 years in a bar-diagram</p>"
      ]
    },
    {
      "cell_type": "markdown",
      "metadata": {
        "id": "RgnwiSJ87ziy"
      },
      "source": [
        "**<h5> Bar diagram of homicide cases in Los Angeles over a span of 40 years</h5>**"
      ]
    },
    {
      "cell_type": "code",
      "metadata": {
        "id": "GkK-eE8Z7u_7"
      },
      "source": [
        "ax=plt.figure(figsize=(15,10))\n",
        "plt.xticks(rotation='vertical')\n",
        "ax=sns.barplot(LOS_ANGELS[\"report_year\"], LOS_ANGELS[\"homicides\"],palette=\"gist_earth\")\n",
        "\n",
        "plt.ylabel(\"Number of Homicides in Los Angeles\")"
      ],
      "execution_count": null,
      "outputs": []
    },
    {
      "cell_type": "markdown",
      "metadata": {
        "id": "It6RWYYx75d4"
      },
      "source": [
        "<p>From this bar diagram, we can see that number of homicide cases went to their peak in 1992 an 1993 with more than 1000 cases in Los Angeles. After 1993, the homicide cases is in control and the number of cases were declining. But in the year 2002, We can see some spike in the homicide case in Los Angeles. After 2002, the number of cases went down. </p>\n",
        "<p> Now, let's visaulize the number of homicide cases in Chicago in the span of 40 years in a bar-diagram</p>"
      ]
    },
    {
      "cell_type": "markdown",
      "metadata": {
        "id": "pXwZGHPM75yF"
      },
      "source": [
        "**<h5> Bar diagram of homicide cases in Chicago over a span of 40 years </h5>**"
      ]
    },
    {
      "cell_type": "code",
      "metadata": {
        "id": "ZSLcSfOo77eY"
      },
      "source": [
        "ax=plt.figure(figsize=(15,10))\n",
        "plt.xticks(rotation='vertical')\n",
        "ax=sns.barplot(CHIGAGO[\"report_year\"], CHIGAGO[\"homicides\"],palette=\"gist_earth\")\n",
        "\n",
        "plt.ylabel(\"Number of Homicides In Chicago\")"
      ],
      "execution_count": null,
      "outputs": []
    },
    {
      "cell_type": "markdown",
      "metadata": {
        "id": "At1aZ6C-8A8d"
      },
      "source": [
        "<p>From this bar diagram, we can see that number of homicide cases went at it's peak in 1992 with more than 900 cases in Chicago. After 1993, the homicide cases is in control and the number of cases are declining.</p>\n"
      ]
    },
    {
      "cell_type": "markdown",
      "metadata": {
        "id": "7zez-ypvTDZO"
      },
      "source": [
        "##Rape Bar Graphs"
      ]
    },
    {
      "cell_type": "markdown",
      "metadata": {
        "id": "JihGPuCG8CLF"
      },
      "source": [
        "**<h5> Bar diagram of rape cases in New York over a span of 40 years in a bar diagram</h5>**"
      ]
    },
    {
      "cell_type": "code",
      "metadata": {
        "id": "oisPNDCt8EAJ"
      },
      "source": [
        "ax=plt.figure(figsize=(15,10))\n",
        "plt.xticks(rotation='vertical')\n",
        "ax=sns.barplot(NYC[\"report_year\"], NYC[\"rapes\"],palette=\"cool\")\n",
        "\n",
        "plt.ylabel(\"Number of Rape Cases in New York\")"
      ],
      "execution_count": null,
      "outputs": []
    },
    {
      "cell_type": "markdown",
      "metadata": {
        "id": "_-hFU6ii8Htb"
      },
      "source": [
        "<p>From this bar diagram, we can see that number of rape cases were high in 1975 to 1985. After 1985, the rape cases is in control and the number of cases were declining. But in the year 2014, we see a sudden spike in the rape case in New York. In the last two years in 2014 and 2015, the number of rape cases are increasing in New York.</p>\n",
        "<p> Now, let's visualize the number of rape cases in Los Angeles in the span of 40 years in a bar-diagram</p>"
      ]
    },
    {
      "cell_type": "markdown",
      "metadata": {
        "id": "yx3x0hAG8IUt"
      },
      "source": [
        "**<h5> Bar diagram of rape cases in Los Angeles over a span of 40 years </h5>**\n"
      ]
    },
    {
      "cell_type": "code",
      "metadata": {
        "id": "v0A7JhWS8KL0"
      },
      "source": [
        "ax=plt.figure(figsize=(15,10))\n",
        "plt.xticks(rotation='vertical')\n",
        "ax=sns.barplot(LOS_ANGELS[\"report_year\"], LOS_ANGELS[\"rapes\"],palette=\"cool\")\n",
        "\n",
        "plt.ylabel(\"Number of Rape Cases in Los Angeles\")"
      ],
      "execution_count": null,
      "outputs": []
    },
    {
      "cell_type": "markdown",
      "metadata": {
        "id": "Hakbe39N-zcB"
      },
      "source": [
        "<p>From this bar diagram, we can see that number of rape cases went at it's peak in 1980 in Los Angeles. After 1980, the number of rape cases were declining in Los Angeles. But in the last two year, we see a sudden spike in the rape case in Los Angeles. In the last year in 2015, the number of rape cases went beyond 2000.</p>\n",
        "<p> Now, let's visaulize the number of rape cases in Los Angeles in the span of 40 years in a bar-diagram</p>"
      ]
    },
    {
      "cell_type": "markdown",
      "metadata": {
        "id": "6C0J67OT-14e"
      },
      "source": [
        "**<h5> Bar diagram for rape cases in Chicago over a span of 40 years </h5>**"
      ]
    },
    {
      "cell_type": "code",
      "metadata": {
        "id": "9GSrIMEA-2I_"
      },
      "source": [
        "ax=plt.figure(figsize=(15,10))\n",
        "plt.xticks(rotation='vertical')\n",
        "ax=sns.barplot(CHIGAGO[\"report_year\"], CHIGAGO[\"rapes\"],palette=\"cool\")\n",
        "\n",
        "plt.ylabel(\"Number of rape cases in Chicago\")"
      ],
      "execution_count": null,
      "outputs": []
    },
    {
      "cell_type": "markdown",
      "metadata": {
        "id": "zuQAacxA-6Yy"
      },
      "source": [
        "<p>From this bar diagram, we can see that number of rape cases start increasing from 1983 and reached at it's peak in 1992 in Los Chicago. After 1992, the number of rape cases slowly went down and came in control in Chicago.</p>\n"
      ]
    },
    {
      "cell_type": "markdown",
      "metadata": {
        "id": "RHQLfNgkTXrE"
      },
      "source": [
        "##Assault Cases Bar Graphs"
      ]
    },
    {
      "cell_type": "markdown",
      "metadata": {
        "id": "e-gedvxK-9TF"
      },
      "source": [
        "**<h5> Bar diagram for assault cases in New York over a span of 40 years </h5>**"
      ]
    },
    {
      "cell_type": "code",
      "metadata": {
        "id": "_2M7gv4U-_b8"
      },
      "source": [
        "ax=plt.figure(figsize=(15,10))\n",
        "plt.xticks(rotation='vertical')\n",
        "ax=sns.barplot(NYC[\"report_year\"], NYC[\"assaults\"],palette=\"flare\")\n",
        "plt.ylabel(\"Number of Assault cases in New York\")"
      ],
      "execution_count": null,
      "outputs": []
    },
    {
      "cell_type": "markdown",
      "metadata": {
        "id": "8K1SA6mp_B_-"
      },
      "source": [
        "<p>From this bar diagram, we can see that number of assault cases start increasing from 1984 and reached at it's peak in 1988 and 1989 in New York. After 1989, the number of assault cases slowly went down till 2010. After 2010, the assault cases are increasing slowing.</p>\n",
        "<p> Now, let's visaulize the number of assault cases in Los Angeles in the span of 40 years in a bar-diagram</p>"
      ]
    },
    {
      "cell_type": "markdown",
      "metadata": {
        "id": "SknftZ3c_Dev"
      },
      "source": [
        "**<h5> Bar diagram for assault cases in Los Angeles over a span of 40 years</h5>**"
      ]
    },
    {
      "cell_type": "code",
      "metadata": {
        "id": "csvzCkUG_Fkz"
      },
      "source": [
        "ax=plt.figure(figsize=(15,10))\n",
        "plt.xticks(rotation='vertical')\n",
        "ax=sns.barplot(LOS_ANGELS[\"report_year\"], LOS_ANGELS[\"assaults\"],palette=\"flare\")\n",
        "\n",
        "plt.ylabel(\"Number of Assault crimes in Los Angeles\")"
      ],
      "execution_count": null,
      "outputs": []
    },
    {
      "cell_type": "markdown",
      "metadata": {
        "id": "ADrVbXJo_HQb"
      },
      "source": [
        "<p>From this bar diagram, we can see that number of assault cases start increasing from 1985 and reached at it's peak in 1991 in Los Angeles. After 1991, the number of assault cases slowly went down till 2013. In last two years in 2014 and 2015, the assault cases are increasing which is not a good sign for Los Angeles.</p>\n",
        "<p> Now, let's visaulize the number of assault cases in Chicago in the span of 40 years in a bar-diagram</p>"
      ]
    },
    {
      "cell_type": "markdown",
      "metadata": {
        "id": "H8NmzJPZ_JIl"
      },
      "source": [
        "**<h5> Bar diagram for assault cases in Chicago over a span of 40 years</h5>**"
      ]
    },
    {
      "cell_type": "code",
      "metadata": {
        "id": "HQmfYNP9_LCT"
      },
      "source": [
        "ax=plt.figure(figsize=(15,10))\n",
        "plt.xticks(rotation='vertical')\n",
        "ax=sns.barplot(CHIGAGO[\"report_year\"], CHIGAGO[\"assaults\"],palette=\"flare\")\n",
        "\n",
        "plt.ylabel(\"Number of Assault Cases in Chicago\")"
      ],
      "execution_count": null,
      "outputs": []
    },
    {
      "cell_type": "markdown",
      "metadata": {
        "id": "XV91nMNI_O-1"
      },
      "source": [
        "<p>From this bar diagram, we can see that number of assault cases start increasing from 1983 and reached at it's peak in 1991 in Chicago. After 1991,\n",
        "the assault cases is in control and the number of cases is declining in Chicago.</p>\n"
      ]
    },
    {
      "cell_type": "markdown",
      "metadata": {
        "id": "p2fPHkhaTjbf"
      },
      "source": [
        "##Robberies Bar Graphs"
      ]
    },
    {
      "cell_type": "markdown",
      "metadata": {
        "id": "CeE1cY78_P7l"
      },
      "source": [
        "**<h5> Bar diagram for robberies in New York over a span of 40 years </h5>**"
      ]
    },
    {
      "cell_type": "code",
      "metadata": {
        "id": "lPK6pxvO_RnH"
      },
      "source": [
        "ax=plt.figure(figsize=(15,10))\n",
        "plt.xticks(rotation='vertical')\n",
        "ax=sns.barplot(NYC[\"report_year\"], NYC[\"robberies\"],palette=\"gist_rainbow\")\n",
        "\n",
        "plt.ylabel(\"Number of Robberies reported in New York\")"
      ],
      "execution_count": null,
      "outputs": []
    },
    {
      "cell_type": "markdown",
      "metadata": {
        "id": "628of9zc_XQM"
      },
      "source": [
        "<p>From this bar diagram, we can see that number of robberies were very high in early 1980's  and reached at it's peak in 1991 and 1992 in Los Angeles. After then, the number seems to be in control and the number of cases is declining in Los Angeles.</p>\n",
        "<p> Now, let's visaulize the number of robberies cases in Los Angeles in the span of 40 years in a bar-diagram</p>"
      ]
    },
    {
      "cell_type": "markdown",
      "metadata": {
        "id": "s9mq1UISFwMz"
      },
      "source": [
        "**<h5> Bar diagram of robberies in Los Angeles over a span of 40 years </h5>**"
      ]
    },
    {
      "cell_type": "code",
      "metadata": {
        "id": "bGPXiev8FxVz"
      },
      "source": [
        "ax=plt.figure(figsize=(15,10))\n",
        "plt.xticks(rotation='vertical')\n",
        "ax=sns.barplot(LOS_ANGELS[\"report_year\"], LOS_ANGELS[\"robberies\"],palette=\"gist_rainbow\")\n",
        "\n",
        "plt.ylabel(\"Number of robberies reported in Los Angeles\")"
      ],
      "execution_count": null,
      "outputs": []
    },
    {
      "cell_type": "markdown",
      "metadata": {
        "id": "BW1zrqC5GGhu"
      },
      "source": [
        "Similarly, the numbers were very high in LA for robberies at the beginning of the 90s. 1991 was the year where the city recorded the maximum number, with close to 4 thousand robberies. Since then, the trend is general towards a decrease in cases. "
      ]
    },
    {
      "cell_type": "markdown",
      "metadata": {
        "id": "dUChiRNq_YR8"
      },
      "source": [
        "**<h5> Bar diagram of robberies in Chicago over a span of 40 years </h5>**"
      ]
    },
    {
      "cell_type": "code",
      "metadata": {
        "id": "FQ9rV2xl_bBF"
      },
      "source": [
        "ax=plt.figure(figsize=(15,10))\n",
        "plt.xticks(rotation='vertical')\n",
        "ax=sns.barplot(CHIGAGO[\"report_year\"], CHIGAGO[\"robberies\"],palette=\"gist_rainbow\")\n",
        "\n",
        "plt.ylabel(\"Number of robberies reported in Chicago\")"
      ],
      "execution_count": null,
      "outputs": []
    },
    {
      "cell_type": "markdown",
      "metadata": {
        "id": "G4TkRF63_fH7"
      },
      "source": [
        "<p>From this bar diagram, we can see that number of robberies were very high in 1975. Then the cases went down till 1982. After 1982, there is significant rise in the number of robberies cases and reached at it's peak in 1991 in Chicago. After then, the number seems to be in control and the number of cases is declining in Chicago.</p>"
      ]
    },
    {
      "cell_type": "markdown",
      "metadata": {
        "id": "tOlihMl7T6Gi"
      },
      "source": [
        "#Increase or Decrease?"
      ]
    },
    {
      "cell_type": "markdown",
      "metadata": {
        "id": "kLvp-p9I_iDr"
      },
      "source": [
        "**<h5> Are the violent crimes increasing or decreasing in the USA? </h5>**\n",
        "<p> For answering this question, we first have to sum up all the crimes that occurs in all the states in a particular year and then we try to plot the number of crimes over a time span of 40 years in a graph.</p>"
      ]
    },
    {
      "cell_type": "code",
      "metadata": {
        "id": "LEfE_auP_jvG"
      },
      "source": [
        "report_years = df2['report_year'].unique().tolist()\n",
        "total_violent_crimes = []\n",
        "for year in report_years:\n",
        "  total_violent_crimes.append(df2.loc[df2['report_year'] == year,'violent_crimes'].sum())\n",
        "print(total_violent_crimes)\n",
        "print(report_years)"
      ],
      "execution_count": null,
      "outputs": []
    },
    {
      "cell_type": "markdown",
      "metadata": {
        "id": "o-JR7E9N_nZR"
      },
      "source": [
        "**<h5> Visualizing the number of total crimes in USA over a span of 40 years</h5>**"
      ]
    },
    {
      "cell_type": "code",
      "metadata": {
        "id": "m6v-zlqq_oWC"
      },
      "source": [
        "configure_plotly_browser_state()\n",
        "py.init_notebook_mode(connected=False)\n",
        "\n",
        "\n",
        "data = go.Figure(go.Scatter(x = report_years,y = total_violent_crimes,opacity = 0.8))\n",
        "\n",
        "layout = dict(title = \"Robberies cases in US during in 40 years\",\n",
        "              xaxis = dict(title = 'Time Span'),\n",
        "              yaxis = dict(title = 'Cumulative crimes'))\n",
        "\n",
        "fig = dict(data=data, layout=layout)\n",
        "py.iplot(fig)"
      ],
      "execution_count": null,
      "outputs": []
    },
    {
      "cell_type": "markdown",
      "metadata": {
        "id": "4QBFwDq9_smp"
      },
      "source": [
        "<p>Here, we can see that the number of violent crimes started form above 500K in 1975 and went on increasing year after year. More than 900K cases were reported in the 1991, which we have seen is the around the peak for most major cities. But after this year, the crime is slowing down in USA and it has gotten under 450K. The total number of crimes reported in USA in 2015 is 438K which is less than the crimes reported at the beginning of 1975.</p>\n",
        "\n",
        "**<h6>The answer to our research question is that the crime rates were increasing from 1975 to 1990s and reached it's peak in 1991 and after then the crime rates are declining in the given cities. Because these cities are well populated and have big populations, it is fair to say that by extension, the country at large too is seeing a decrease in violent crimes from the levels seen in the 90s. </h6>**"
      ]
    },
    {
      "cell_type": "markdown",
      "metadata": {
        "id": "oKpPWYbb_t1X"
      },
      "source": [
        "# **<h2> Modelling</h2>**"
      ]
    },
    {
      "cell_type": "markdown",
      "metadata": {
        "id": "4ES3THFA_vN5"
      },
      "source": [
        "**<h3>Feature Selection</h3>**"
      ]
    },
    {
      "cell_type": "code",
      "metadata": {
        "id": "RtBTRcEA_wtS"
      },
      "source": [
        "data = df2.loc[:,['report_year','agency_jurisdiction','population','violent_crimes']]\n",
        "data"
      ],
      "execution_count": null,
      "outputs": []
    },
    {
      "cell_type": "markdown",
      "metadata": {
        "id": "yidzCqxuAN8j"
      },
      "source": [
        "**<h4>One-Hot-Encoding categorical variables </h4>**"
      ]
    },
    {
      "cell_type": "code",
      "metadata": {
        "id": "l_pPtF_hAPuU"
      },
      "source": [
        "cities_dummies = pd.get_dummies(data[\"agency_jurisdiction\"])\n",
        "data = pd.concat([data,cities_dummies],axis=1)\n",
        "data.drop(['agency_jurisdiction','Wichita, KS'],axis='columns',inplace=True)"
      ],
      "execution_count": null,
      "outputs": []
    },
    {
      "cell_type": "markdown",
      "metadata": {
        "id": "8PYduEhcAQiW"
      },
      "source": [
        "**<h4>Splitting Training data and Testing data </h4>**\n",
        "<p> We are taking the crime data from 1975 to 2007 as training data and the crime data from 2008 to 2015 as testing data. Since we are doing time series analysis, we cannot randomly choose training and testing sets from different time spans </p>"
      ]
    },
    {
      "cell_type": "code",
      "metadata": {
        "id": "wKywZuP3AXRy"
      },
      "source": [
        "train_data = data.loc[data['report_year'] < 2008,:]\n",
        "test_data = data.loc[data['report_year'] >= 2008,:]\n",
        "print(train_data.shape)\n",
        "print(test_data.shape)"
      ],
      "execution_count": null,
      "outputs": []
    },
    {
      "cell_type": "code",
      "metadata": {
        "id": "tzvxjnl5AZa5"
      },
      "source": [
        "train_data['time'] = train_data.loc[:,'report_year'] - 1974\n",
        "train_data['time_square'] = (train_data['time'])**2\n",
        "# train_data['time_cube'] = (train_data['time'])**3\n",
        "train_data.drop('report_year',axis=1,inplace=True)\n",
        "# train_data.head()"
      ],
      "execution_count": null,
      "outputs": []
    },
    {
      "cell_type": "code",
      "metadata": {
        "id": "bqo55fsyAx0b"
      },
      "source": [
        "test_data['time'] = test_data.loc[:,'report_year'] - 1974\n",
        "test_data['time_square'] = (test_data['time'])**2\n",
        "# test_data['time_cube'] = (test_data['time'])**3\n",
        "test_data.drop('report_year',axis=1,inplace=True)\n",
        "# test_data.head()"
      ],
      "execution_count": null,
      "outputs": []
    },
    {
      "cell_type": "code",
      "metadata": {
        "id": "ZQnt7O7JA2iD"
      },
      "source": [
        "voilence_crime = train_data.pop('violent_crimes')\n",
        "time = train_data.pop('time')\n",
        "time_square = train_data.pop('time_square')\n",
        "  \n",
        "# insert column using insert(position,column_name,first_column) function\n",
        "train_data.insert(0, 'voilence_crimes', voilence_crime)\n",
        "train_data.insert(1, 'time', time)\n",
        "train_data.insert(2, 'time_square', time_square)\n",
        "train_data.head()"
      ],
      "execution_count": null,
      "outputs": []
    },
    {
      "cell_type": "code",
      "metadata": {
        "id": "8Y96W1N_BDPi"
      },
      "source": [
        "voilence_crime = test_data.pop('violent_crimes')\n",
        "time = test_data.pop('time')\n",
        "time_square = test_data.pop('time_square')\n",
        "  \n",
        "# insert column using insert(position,column_name,first_column) function\n",
        "test_data.insert(0, 'voilence_crimes', voilence_crime)\n",
        "test_data.insert(1, 'time', time)\n",
        "test_data.insert(2, 'time_square', time_square)\n",
        "test_data.head()"
      ],
      "execution_count": null,
      "outputs": []
    },
    {
      "cell_type": "markdown",
      "metadata": {
        "id": "T1UV19AZBGYe"
      },
      "source": [
        "**<h5> Separating feature vectors and labels from training sets and testing sets </h5>**"
      ]
    },
    {
      "cell_type": "code",
      "metadata": {
        "id": "DSn5fJMUBGsc"
      },
      "source": [
        "x_train, y_train = train_data.iloc[:,1:],train_data.iloc[:,0]\n",
        "x_test, y_test = test_data.iloc[:,1:],test_data.iloc[:,0]"
      ],
      "execution_count": null,
      "outputs": []
    },
    {
      "cell_type": "markdown",
      "metadata": {
        "id": "0DojFa9_BJ0N"
      },
      "source": [
        "**<h5>Training a Random Forest Regressor for predicting the number of violent crimes between the years 2008 to 2015</h5>**"
      ]
    },
    {
      "cell_type": "code",
      "metadata": {
        "id": "FvJE7zEaBKUk"
      },
      "source": [
        "# Import the model we are using\n",
        "from sklearn.ensemble import RandomForestRegressor\n",
        "from sklearn import tree\n",
        "clf = RandomForestRegressor(n_estimators = 120, random_state = 42)\n",
        "clf.fit(x_train,y_train)"
      ],
      "execution_count": null,
      "outputs": []
    },
    {
      "cell_type": "code",
      "metadata": {
        "id": "1MPTvbmvBPn2"
      },
      "source": [
        "# y_pred = clf.predict(x_test)\n",
        "# Use the forest's predict method on the test data\n",
        "y_pred = clf.predict(x_test)\n",
        "# Calculate the absolute errors\n",
        "errors = abs(y_pred - y_test)\n",
        "# Print out the mean absolute error (mae)\n",
        "print('Mean Absolute Error:', round(np.mean(errors), 2), 'units.')"
      ],
      "execution_count": null,
      "outputs": []
    },
    {
      "cell_type": "markdown",
      "metadata": {
        "id": "ihwcpQU1BRZk"
      },
      "source": [
        "**<h5>Calculating the accuracy of the models </h5>**"
      ]
    },
    {
      "cell_type": "code",
      "metadata": {
        "id": "cS45BGXuBVMK"
      },
      "source": [
        "# Calculate mean absolute percentage error (MAPE)\n",
        "mape = 100 * (errors / y_test)\n",
        "# Calculate and display accuracy\n",
        "accuracy = 100 - np.mean(mape)\n",
        "print('Accuracy:', round(accuracy, 2), '%.')"
      ],
      "execution_count": null,
      "outputs": []
    },
    {
      "cell_type": "markdown",
      "metadata": {
        "id": "sqeJkwJdBcyQ"
      },
      "source": [
        "**<h6>Let's see the parameter that our decision tree regressor has used to predict the model. We have created a random forest regressor for predicting the violent crimes in the upcoming years. We have used 120 decision trees to form a random forest to create a model. </h6>**"
      ]
    },
    {
      "cell_type": "code",
      "metadata": {
        "id": "VWQkPlnVBdq8"
      },
      "source": [
        "clf.estimators_"
      ],
      "execution_count": null,
      "outputs": []
    },
    {
      "cell_type": "code",
      "metadata": {
        "id": "mWYjWg3pBip1"
      },
      "source": [
        "len(clf.estimators_)"
      ],
      "execution_count": null,
      "outputs": []
    },
    {
      "cell_type": "markdown",
      "metadata": {
        "id": "nTw9100-Bk2d"
      },
      "source": [
        "## **<h2> Visualize the decision trees in Random Forest Regressor </h2>**"
      ]
    },
    {
      "cell_type": "markdown",
      "metadata": {
        "id": "aoZ40CjsBmkd"
      },
      "source": [
        "we**<h6>Visualizing the first decision tree </h6>**\n",
        "\n",
        "**<h6> We can visualize any decision tree by providing the value clf.estimators_[?].Here we have used 120 trees to form a decision tree so we can pass the values between 0 to 119. </h6>**"
      ]
    },
    {
      "cell_type": "code",
      "metadata": {
        "id": "9eWnwc0gBoUc"
      },
      "source": [
        "plt.figure(figsize=(15,10))\n",
        "tree.plot_tree(clf.estimators_[0],filled=True)"
      ],
      "execution_count": null,
      "outputs": []
    },
    {
      "cell_type": "code",
      "metadata": {
        "id": "pgLc6zPaCHW1"
      },
      "source": [
        "predicted_df = pd.DataFrame({'Actual': y_test,'Predicted':y_pred})\n",
        "predicted_df"
      ],
      "execution_count": null,
      "outputs": []
    },
    {
      "cell_type": "markdown",
      "metadata": {
        "id": "_71ERxKPCMAM"
      },
      "source": [
        "**<h5> Visualize the actual vs predicted values in the graph </h5>** "
      ]
    },
    {
      "cell_type": "code",
      "metadata": {
        "id": "JTLM3zXBCM1n"
      },
      "source": [
        "sns.relplot(x=\"Actual\", y=\"Predicted\", hue='Actual', data=predicted_df[:50])"
      ],
      "execution_count": null,
      "outputs": []
    },
    {
      "cell_type": "markdown",
      "metadata": {
        "id": "znW6JZPcCXao"
      },
      "source": [
        "**<h6>Let's see which is the important features in doing the prediction </h6>**\n",
        "<p> For this we need to calculate the <b>'feature_importances_'</b> of the predicted model</p>"
      ]
    },
    {
      "cell_type": "code",
      "metadata": {
        "id": "ekm4gaOnCYYk"
      },
      "source": [
        "importance =clf.feature_importances_\n",
        "importance"
      ],
      "execution_count": null,
      "outputs": []
    },
    {
      "cell_type": "code",
      "metadata": {
        "id": "aZzjc6ynCbxx"
      },
      "source": [
        "columns = x_train.columns"
      ],
      "execution_count": null,
      "outputs": []
    },
    {
      "cell_type": "markdown",
      "metadata": {
        "id": "QTWfK1XGCck3"
      },
      "source": [
        "**<h6>Let's see the important features and along with their correlations with the predicted value</h6>**"
      ]
    },
    {
      "cell_type": "code",
      "metadata": {
        "id": "JFAgo9-gCeYg"
      },
      "source": [
        "rfgraph =  pd.Series(importance,columns)\n",
        "rfgraph"
      ],
      "execution_count": null,
      "outputs": []
    },
    {
      "cell_type": "markdown",
      "metadata": {
        "id": "-IdK1Oo2Ckyl"
      },
      "source": [
        "**<h6> We can see that the 'population' feature is the most important  when predicting the number of violent crimes in the USA </h6>**\n",
        "<p> That generally means, the greater the density of population, the more likely chance of having more crimes in the country </p>"
      ]
    },
    {
      "cell_type": "code",
      "metadata": {
        "id": "bf50VIpBClx2"
      },
      "source": [
        "import matplotlib.pyplot as plt\n",
        "from matplotlib.pyplot import figure"
      ],
      "execution_count": null,
      "outputs": []
    },
    {
      "cell_type": "markdown",
      "metadata": {
        "id": "hsbHyRQpCofO"
      },
      "source": [
        "**<h6>Visualizing every important features for predicting the number of total violent crimes in the country </h6>**"
      ]
    },
    {
      "cell_type": "code",
      "metadata": {
        "id": "GZGFdBI_CowS"
      },
      "source": [
        "figure(figsize=(10,10))\n",
        "rfgraph.sort_values().plot.barh(color='red')\n",
        "plt.title('random forest model visualization')"
      ],
      "execution_count": null,
      "outputs": []
    },
    {
      "cell_type": "markdown",
      "metadata": {
        "id": "uMc4HE5YCv5E"
      },
      "source": [
        "**<h6>From this feature importance graph, we conclude that 'population' is the most important feature for predicting the number of violent crimes in USA. Next feature is 'New York City'. This sounds fair because more number of crimes are being reported in New York City. So, this feature is playing a greater part in the prediction model. Third and the fourth important features are time_square and time. The 'time' feature refers to the difference in time between crimes reported and first crime reported in our dataset(i.e 1974). And 'time_square' refers to the square of 'time' feature variable. These two features are considered important because the crime rates were too high in the early 1990s and the crime rates are declining as the time progress so we see such dependency in our models as well. </h6>** "
      ]
    },
    {
      "cell_type": "markdown",
      "metadata": {
        "id": "tRjGh0o1Cwp7"
      },
      "source": [
        "# **<h2> Conclusion </h2>**"
      ]
    },
    {
      "cell_type": "markdown",
      "metadata": {
        "id": "9Kq7BSeqCz8p"
      },
      "source": [
        "Our analysis of the dataset covering the 1975-2015 period in relation to crimes in American cities has allowed us to answer the questions we asked in the beginning. \n",
        "\n",
        "<p><b>1. Are violent crimes  rising or falling in American cities?</b></p>\n",
        "<p><b>2. Which is the most reported violent crime among all violent crimes?</b></p>\n",
        "<p><b>3. Which cities in the country have reported the highest numbers of violent crime cases? </b></p>\n",
        "\n",
        "To question 1, we can positively say that <b>the number of crimes is decreasing</b> since the beginning of the 90s. In fact, the number of crimes that have been recorded in 2015 is lower than that in 1975. \n",
        "\n",
        "Question 2 is answered in the \"Basic Data Analysis and Visualization\" section of this report. The <b>most reported violent crime is assault</b>, followed by robberies, rapes and homicides. \n",
        "\n",
        "For Question 3, in the same section as question 2 we show that <b>New York City (New York), Los Angeles (California) and Chicago (Illinois)</b> are the three cities which report the hight numbers of crimes almost consistantly as we see in the different graohs in the time series section. \n",
        "\n",
        "It comes as no surprise to us that these are results we get, especially because the three most populated cities in the United States are these three. Our analysis focused on the <b>number</b> of reported crimes, rather than the <b>rates per capita</b> at which they were reported. \n",
        "\n",
        "\n",
        " From the above figures, we conclude that New York, Los Angeles and Chicago are the cities with the highest number of crimes. We have seen how the numbers have evolved in the 1975-2015 period and for most of the crimes, there is a decrease. Of course, there are some years where the numbers increase instead of decreasing, but in general, the trend is towards the latter. One alarming point we noticed is the increase in rape reports in Los Angeles in the last two years of the available data, from 2013 to 2015. It is shown that the rates at which this increase happens is higher than at any other point during the 40 years covered by our analysis. \n",
        "\n",
        "In the timeframe that was covered in the dataset, it is shown through the various graphs that crimes have been in a constant increase between 1975 and the 90s. Around maybe 25-30 years ago, the number of reported crimes have decreased significantly, often showing a stark contrast between the numbers reported at the peak and a few years later. This phenomenon is generalized to the entire country and is called the \"Great Crime Decline\". \n",
        "\n",
        "Many theorize on the causes behind these drops in number of crimes. Some theories say that maybe it is because the neighborhoods that were hotspots are being gentrified, which means there is better economic activity in those neighborhoods, which leads to a lesser need or desire for people to commit crimes. It also leads to increased security with maybe more police forces there as a deterrent. Another theory that is out there is that technology is keeping people inside. There is this idea that if people are busy in front of their computers and TVs, they will not be committing crimes. There also are politicians who want to have the merits of this decline, like Bill Clinton after he passed his massive crime bill in which there were things that disproportionately affected people of color and minorities. The truth is that crime experts and researchers do not agree on one single answer, so we do not know what exactly caused that decrease. \n",
        "\n",
        "\n",
        "If we can create a model that can predict the number of violent crimes that can occur in each state, then law enforcement agencies can deploy resources in a more effective manner and assist detectives in their investigations. Considering this situation, we have created a model based on random forest to predict the number of violent crimes in each state in the upcoming year. However, the model we have created is not getting good accuracy.\n",
        "\n",
        "The reason behind this is the lack of sufficient data. Here in this dataset, the crime data is provided in a year basis. We can \n",
        "design our prediction model to give more accurate results if there is an availability of  data of reported crimes\n",
        "each day at different cities. LSTM are often used to do time series analysis but here we have treated this problem as regression\n",
        "problem and created a model using random forest. This is the main reason behind our model to be not as accurate as we expeceted.\n",
        " \n",
        " So, this report provides moreover an analytical summary of whether the crimes rates are rising or falling in America, which crimes are reported more often and in which states the crimes rates are increasing or declining so that we can get an overall view of what's going on in the country in order to deploy the appropriate resources needed to counter crime, whethe it be by puttin more police officers, by offering better mental health support to communities or by applying what experts and academics will demand."
      ]
    }
  ]
}